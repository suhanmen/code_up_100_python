{
 "cells": [
  {
   "cell_type": "markdown",
   "id": "767f4abb",
   "metadata": {},
   "source": [
    "# 1월 25일"
   ]
  },
  {
   "cell_type": "markdown",
   "id": "9d675b24",
   "metadata": {},
   "source": [
    "# 1"
   ]
  },
  {
   "cell_type": "code",
   "execution_count": 1,
   "id": "63e36577",
   "metadata": {},
   "outputs": [
    {
     "name": "stdout",
     "output_type": "stream",
     "text": [
      "Hellow\n"
     ]
    }
   ],
   "source": [
    "print('Hellow')"
   ]
  },
  {
   "cell_type": "markdown",
   "id": "802b59b6",
   "metadata": {},
   "source": [
    "# 2"
   ]
  },
  {
   "cell_type": "code",
   "execution_count": 2,
   "id": "52afe726",
   "metadata": {},
   "outputs": [
    {
     "name": "stdout",
     "output_type": "stream",
     "text": [
      "Hello World\n"
     ]
    }
   ],
   "source": [
    "print('Hello','World')"
   ]
  },
  {
   "cell_type": "markdown",
   "id": "1154506a",
   "metadata": {},
   "source": [
    "# 4"
   ]
  },
  {
   "cell_type": "code",
   "execution_count": 3,
   "id": "09dae63a",
   "metadata": {},
   "outputs": [
    {
     "name": "stdout",
     "output_type": "stream",
     "text": [
      "'Hello'\n"
     ]
    }
   ],
   "source": [
    "print(\"'Hello'\")"
   ]
  },
  {
   "cell_type": "markdown",
   "id": "b7589ff2",
   "metadata": {},
   "source": [
    "# 5"
   ]
  },
  {
   "cell_type": "code",
   "execution_count": 4,
   "id": "3efa5c86",
   "metadata": {},
   "outputs": [
    {
     "name": "stdout",
     "output_type": "stream",
     "text": [
      "\"Hello\"\n"
     ]
    }
   ],
   "source": [
    "print('\"Hello\"')"
   ]
  },
  {
   "cell_type": "markdown",
   "id": "bc1abb3f",
   "metadata": {},
   "source": [
    "# 6-문제"
   ]
  },
  {
   "cell_type": "code",
   "execution_count": 42,
   "id": "c63d8463",
   "metadata": {},
   "outputs": [
    {
     "name": "stdout",
     "output_type": "stream",
     "text": [
      "\"!@#$%^&*()'\n"
     ]
    }
   ],
   "source": [
    "print('''\\\"!@#$%^&*()\\'''')"
   ]
  },
  {
   "cell_type": "markdown",
   "id": "7ed2295b",
   "metadata": {},
   "source": [
    "# 7-문제"
   ]
  },
  {
   "cell_type": "code",
   "execution_count": 43,
   "id": "a07dc61b",
   "metadata": {},
   "outputs": [
    {
     "name": "stdout",
     "output_type": "stream",
     "text": [
      "\"C:\\Download\\'hello'.py\"\n"
     ]
    }
   ],
   "source": [
    "print(\"\\\"C:\\Download\\\\'hello\\'.py\\\"\")"
   ]
  },
  {
   "cell_type": "markdown",
   "id": "8fe1eb96",
   "metadata": {},
   "source": [
    "# 8-문제"
   ]
  },
  {
   "cell_type": "code",
   "execution_count": 44,
   "id": "b1ba6fb6",
   "metadata": {},
   "outputs": [
    {
     "name": "stdout",
     "output_type": "stream",
     "text": [
      "Hello\\nWorld\n"
     ]
    }
   ],
   "source": [
    "print(\"Hello\\\\nWorld\")"
   ]
  },
  {
   "cell_type": "markdown",
   "id": "5e51c4ab",
   "metadata": {},
   "source": [
    "9"
   ]
  },
  {
   "cell_type": "code",
   "execution_count": 45,
   "id": "802761bd",
   "metadata": {},
   "outputs": [
    {
     "name": "stdout",
     "output_type": "stream",
     "text": [
      "\n",
      "출력 :  \n"
     ]
    }
   ],
   "source": [
    "a = input()\n",
    "print('출력 : ',a)"
   ]
  },
  {
   "cell_type": "markdown",
   "id": "9a4cbf7d",
   "metadata": {},
   "source": [
    "10"
   ]
  },
  {
   "cell_type": "code",
   "execution_count": 26,
   "id": "a160a7ed",
   "metadata": {},
   "outputs": [
    {
     "name": "stdout",
     "output_type": "stream",
     "text": [
      "5\n",
      "출력 :  5\n"
     ]
    }
   ],
   "source": [
    "n = input()\n",
    "n = int(n)\n",
    "print(\"출력 : \",n)"
   ]
  },
  {
   "cell_type": "markdown",
   "id": "ab77e327",
   "metadata": {},
   "source": [
    "11"
   ]
  },
  {
   "cell_type": "code",
   "execution_count": 27,
   "id": "4ac91f60",
   "metadata": {},
   "outputs": [
    {
     "name": "stdout",
     "output_type": "stream",
     "text": [
      "5\n",
      "5.0\n"
     ]
    }
   ],
   "source": [
    "f = input()\n",
    "f = float(f)\n",
    "print(f)"
   ]
  },
  {
   "cell_type": "markdown",
   "id": "6f5a2354",
   "metadata": {},
   "source": [
    "# 13-문제"
   ]
  },
  {
   "cell_type": "code",
   "execution_count": 29,
   "id": "a7531679",
   "metadata": {},
   "outputs": [
    {
     "name": "stdout",
     "output_type": "stream",
     "text": [
      "ㅁ\n",
      "b\n",
      "출력\n",
      "b\n",
      "ㅁ\n"
     ]
    }
   ],
   "source": [
    "a = input()\n",
    "b = input()\n",
    "print(\"출력\")\n",
    "print(b)\n",
    "print(a)"
   ]
  },
  {
   "cell_type": "markdown",
   "id": "6b869aff",
   "metadata": {},
   "source": [
    "# 14-문제"
   ]
  },
  {
   "cell_type": "code",
   "execution_count": 31,
   "id": "cba9d7ae",
   "metadata": {},
   "outputs": [
    {
     "name": "stdout",
     "output_type": "stream",
     "text": [
      "0.1\n",
      "출력\n",
      "0.1\n",
      "0.1\n",
      "0.1\n"
     ]
    }
   ],
   "source": [
    "a = input()\n",
    "print(\"출력\")\n",
    "print(a)\n",
    "print(a)\n",
    "print(a)"
   ]
  },
  {
   "cell_type": "markdown",
   "id": "5e5b3ba0",
   "metadata": {},
   "source": [
    "15"
   ]
  },
  {
   "cell_type": "code",
   "execution_count": 34,
   "id": "0e2048ee",
   "metadata": {},
   "outputs": [
    {
     "name": "stdout",
     "output_type": "stream",
     "text": [
      "1 2\n",
      "1\n",
      "2\n"
     ]
    }
   ],
   "source": [
    "a, b = input().split()\n",
    "a=int(a)\n",
    "b=int(b)\n",
    "print(a)\n",
    "print(b)"
   ]
  },
  {
   "cell_type": "markdown",
   "id": "6e37fbe3",
   "metadata": {},
   "source": [
    "16"
   ]
  },
  {
   "cell_type": "code",
   "execution_count": 35,
   "id": "a45706d7",
   "metadata": {},
   "outputs": [
    {
     "name": "stdout",
     "output_type": "stream",
     "text": [
      "a b\n",
      "b a\n"
     ]
    }
   ],
   "source": [
    "c1, c2 = input().split()\n",
    "print(c2, c1)"
   ]
  },
  {
   "cell_type": "markdown",
   "id": "5958a09f",
   "metadata": {},
   "source": [
    "# 17-문제"
   ]
  },
  {
   "cell_type": "code",
   "execution_count": 36,
   "id": "8b8ba8f5",
   "metadata": {},
   "outputs": [
    {
     "name": "stdout",
     "output_type": "stream",
     "text": [
      "arw\n",
      "arw arw arw\n"
     ]
    }
   ],
   "source": [
    "a = input()\n",
    "print(a, a, a)"
   ]
  },
  {
   "cell_type": "markdown",
   "id": "e4c6fee7",
   "metadata": {},
   "source": [
    "# 18-문제\n",
    "### 새로운거 나옴"
   ]
  },
  {
   "cell_type": "code",
   "execution_count": 41,
   "id": "87787830",
   "metadata": {},
   "outputs": [
    {
     "name": "stdout",
     "output_type": "stream",
     "text": [
      "3:16\n",
      "출력\n",
      "3:16\n"
     ]
    }
   ],
   "source": [
    "a, b = input().split(':')\n",
    "print('출력')\n",
    "print(a,b,sep=':')"
   ]
  },
  {
   "cell_type": "markdown",
   "id": "1771c00f",
   "metadata": {},
   "source": [
    "# 19-문제"
   ]
  },
  {
   "cell_type": "code",
   "execution_count": 47,
   "id": "a6f8c9a9",
   "metadata": {},
   "outputs": [
    {
     "name": "stdout",
     "output_type": "stream",
     "text": [
      "2020.3.4\n",
      "출력\n",
      "4-3-2020\n"
     ]
    }
   ],
   "source": [
    "a,b,c = input().split('.')\n",
    "print(\"출력\")\n",
    "print(c,b,a,sep='-')"
   ]
  },
  {
   "cell_type": "markdown",
   "id": "2392b41d",
   "metadata": {},
   "source": [
    "# 20-문제"
   ]
  },
  {
   "cell_type": "code",
   "execution_count": 52,
   "id": "5932812d",
   "metadata": {},
   "outputs": [
    {
     "name": "stdout",
     "output_type": "stream",
     "text": [
      "000907-1121112\n",
      "출력\n",
      "0009071121112\n"
     ]
    }
   ],
   "source": [
    "a,b = input().split('-')\n",
    "print(\"출력\")\n",
    "print(a,b,sep='')"
   ]
  },
  {
   "cell_type": "markdown",
   "id": "b5f3ef28",
   "metadata": {},
   "source": [
    "# 22"
   ]
  },
  {
   "cell_type": "code",
   "execution_count": 55,
   "id": "4e575d0a",
   "metadata": {},
   "outputs": [
    {
     "name": "stdout",
     "output_type": "stream",
     "text": [
      "203004\n",
      "20 30 04\n"
     ]
    }
   ],
   "source": [
    "s = input()\n",
    "print(s[0:2],s[2:4],s[4:6])"
   ]
  },
  {
   "cell_type": "markdown",
   "id": "5594c1d6",
   "metadata": {},
   "source": [
    "# 23-문제"
   ]
  },
  {
   "cell_type": "code",
   "execution_count": 57,
   "id": "3cc13d98",
   "metadata": {},
   "outputs": [
    {
     "name": "stdout",
     "output_type": "stream",
     "text": [
      "17:23:57\n",
      "23\n"
     ]
    }
   ],
   "source": [
    "s = input()\n",
    "print(s[3:5])"
   ]
  },
  {
   "cell_type": "markdown",
   "id": "9b99eb8c",
   "metadata": {},
   "source": [
    "# 24"
   ]
  },
  {
   "cell_type": "code",
   "execution_count": 58,
   "id": "c599d5d4",
   "metadata": {},
   "outputs": [
    {
     "name": "stdout",
     "output_type": "stream",
     "text": [
      "hello world\n",
      "helloworld\n"
     ]
    }
   ],
   "source": [
    "w1, w2 = input().split()\n",
    "s = w1 + w2\n",
    "print(s)"
   ]
  },
  {
   "cell_type": "markdown",
   "id": "7522e991",
   "metadata": {},
   "source": [
    "# 25"
   ]
  },
  {
   "cell_type": "code",
   "execution_count": 59,
   "id": "a7fcc94e",
   "metadata": {},
   "outputs": [
    {
     "name": "stdout",
     "output_type": "stream",
     "text": [
      "123 -123\n",
      "0\n"
     ]
    }
   ],
   "source": [
    "a, b = input().split()\n",
    "c = int(a) + int(b)\n",
    "print(c)"
   ]
  },
  {
   "cell_type": "markdown",
   "id": "0a3cd92d",
   "metadata": {},
   "source": [
    "# 26"
   ]
  },
  {
   "cell_type": "code",
   "execution_count": 62,
   "id": "226e8c9b",
   "metadata": {},
   "outputs": [
    {
     "name": "stdout",
     "output_type": "stream",
     "text": [
      "0.1\n",
      "0.9\n",
      "1.0\n"
     ]
    }
   ],
   "source": [
    "a= input()\n",
    "b = input()\n",
    "\n",
    "a = float(a)\n",
    "b = float(b)\n",
    "\n",
    "c = a+b\n",
    "print(c)"
   ]
  },
  {
   "cell_type": "markdown",
   "id": "f111152f",
   "metadata": {},
   "source": [
    "# 27"
   ]
  },
  {
   "cell_type": "code",
   "execution_count": 63,
   "id": "99077974",
   "metadata": {},
   "outputs": [
    {
     "name": "stdout",
     "output_type": "stream",
     "text": [
      "255\n",
      "ff\n"
     ]
    }
   ],
   "source": [
    "a = input()\n",
    "n = int(a)            #입력된 a를 10진수 값으로 변환해 변수 n에 저장\n",
    "print('%x'% n)  #n에 저장되어있는 값을 16진수(hexadecimal) 소문자 형태 문자열로 출력"
   ]
  },
  {
   "cell_type": "markdown",
   "id": "77b44ca7",
   "metadata": {},
   "source": [
    "# 28"
   ]
  },
  {
   "cell_type": "code",
   "execution_count": 65,
   "id": "56cb669c",
   "metadata": {},
   "outputs": [
    {
     "name": "stdout",
     "output_type": "stream",
     "text": [
      "255\n",
      "FF\n"
     ]
    }
   ],
   "source": [
    "a = input()\n",
    "a = int(a)\n",
    "\n",
    "print('%X'%a)"
   ]
  },
  {
   "cell_type": "markdown",
   "id": "b28e3cf9",
   "metadata": {},
   "source": [
    "# 29"
   ]
  },
  {
   "cell_type": "code",
   "execution_count": 66,
   "id": "2795915e",
   "metadata": {},
   "outputs": [
    {
     "name": "stdout",
     "output_type": "stream",
     "text": [
      "f\n",
      "17\n"
     ]
    }
   ],
   "source": [
    "a = input()\n",
    "a = int(a,16)\n",
    "\n",
    "print(\"%o\"%a)"
   ]
  },
  {
   "cell_type": "markdown",
   "id": "6d7a810a",
   "metadata": {},
   "source": [
    "# 30"
   ]
  },
  {
   "cell_type": "code",
   "execution_count": 68,
   "id": "606f6be1",
   "metadata": {},
   "outputs": [
    {
     "name": "stdout",
     "output_type": "stream",
     "text": [
      "A\n",
      "65\n"
     ]
    }
   ],
   "source": [
    "a = ord(input())\n",
    "\n",
    "print(a)"
   ]
  },
  {
   "cell_type": "markdown",
   "id": "9c2434cd",
   "metadata": {},
   "source": [
    "# 31"
   ]
  },
  {
   "cell_type": "code",
   "execution_count": 70,
   "id": "db06548a",
   "metadata": {},
   "outputs": [
    {
     "name": "stdout",
     "output_type": "stream",
     "text": [
      "65\n",
      "A\n"
     ]
    }
   ],
   "source": [
    "a = int(input())\n",
    "\n",
    "print(chr(a))"
   ]
  },
  {
   "cell_type": "markdown",
   "id": "bcef059a",
   "metadata": {},
   "source": [
    "# 32"
   ]
  },
  {
   "cell_type": "code",
   "execution_count": 71,
   "id": "02c700ca",
   "metadata": {},
   "outputs": [
    {
     "name": "stdout",
     "output_type": "stream",
     "text": [
      "1\n",
      "-1\n"
     ]
    }
   ],
   "source": [
    "a = int(input())\n",
    "\n",
    "print(-a)"
   ]
  },
  {
   "cell_type": "markdown",
   "id": "7b58f97b",
   "metadata": {},
   "source": [
    "# 33"
   ]
  },
  {
   "cell_type": "code",
   "execution_count": 74,
   "id": "e21a6ed9",
   "metadata": {},
   "outputs": [
    {
     "name": "stdout",
     "output_type": "stream",
     "text": [
      "a\n",
      "b\n"
     ]
    }
   ],
   "source": [
    "a = ord(input())\n",
    "\n",
    "print(chr(a+1))"
   ]
  },
  {
   "cell_type": "markdown",
   "id": "570fd5b2",
   "metadata": {},
   "source": [
    "# 34"
   ]
  },
  {
   "cell_type": "code",
   "execution_count": 77,
   "id": "e04f180d",
   "metadata": {},
   "outputs": [
    {
     "name": "stdout",
     "output_type": "stream",
     "text": [
      "123 -123\n",
      "246\n"
     ]
    }
   ],
   "source": [
    "a, b = input().split()\n",
    "a = int(a)\n",
    "b = int(b)\n",
    "\n",
    "c = a - b\n",
    "print(c)"
   ]
  },
  {
   "cell_type": "markdown",
   "id": "f33317ed",
   "metadata": {},
   "source": [
    "# 35"
   ]
  },
  {
   "cell_type": "code",
   "execution_count": 79,
   "id": "5e31e9b9",
   "metadata": {},
   "outputs": [
    {
     "name": "stdout",
     "output_type": "stream",
     "text": [
      "0.5 2.0\n",
      "1.0\n"
     ]
    }
   ],
   "source": [
    "f1, f2 = input().split()\n",
    "\n",
    "f1 = float(f1)\n",
    "f2 = float(f2)\n",
    "\n",
    "c = f1 * f2\n",
    "\n",
    "print(c)"
   ]
  },
  {
   "cell_type": "markdown",
   "id": "6cdca729",
   "metadata": {},
   "source": [
    "# 36"
   ]
  },
  {
   "cell_type": "code",
   "execution_count": 80,
   "id": "b29a9254",
   "metadata": {},
   "outputs": [
    {
     "name": "stdout",
     "output_type": "stream",
     "text": [
      "love 3\n",
      "lovelovelove\n"
     ]
    }
   ],
   "source": [
    "w, n = input().split()\n",
    "\n",
    "n = int(n)\n",
    "\n",
    "print(w*n)"
   ]
  },
  {
   "cell_type": "markdown",
   "id": "ec3e34f5",
   "metadata": {},
   "source": [
    "# 37"
   ]
  },
  {
   "cell_type": "code",
   "execution_count": 81,
   "id": "e3031ee8",
   "metadata": {},
   "outputs": [
    {
     "name": "stdout",
     "output_type": "stream",
     "text": [
      "3\n",
      "I love CS\n",
      "I love CSI love CSI love CS\n"
     ]
    }
   ],
   "source": [
    "n = int(input())\n",
    "w = input()\n",
    "\n",
    "print(w*n)"
   ]
  },
  {
   "cell_type": "markdown",
   "id": "d362f609",
   "metadata": {},
   "source": [
    "# 38"
   ]
  },
  {
   "cell_type": "code",
   "execution_count": 82,
   "id": "3ad6ebe4",
   "metadata": {},
   "outputs": [
    {
     "name": "stdout",
     "output_type": "stream",
     "text": [
      "2 10\n",
      "1024\n"
     ]
    }
   ],
   "source": [
    "a, b = input().split()\n",
    "\n",
    "a = int(a)\n",
    "b = int(b)\n",
    "\n",
    "print(a**b)"
   ]
  },
  {
   "cell_type": "markdown",
   "id": "05ca3073",
   "metadata": {},
   "source": [
    "# 39"
   ]
  },
  {
   "cell_type": "code",
   "execution_count": 83,
   "id": "85ca735a",
   "metadata": {},
   "outputs": [
    {
     "name": "stdout",
     "output_type": "stream",
     "text": [
      "4.0 2.0\n",
      "16.0\n"
     ]
    }
   ],
   "source": [
    "f1, f2 = input().split()\n",
    "\n",
    "f1 = float(f1)\n",
    "f2 = float(f2)\n",
    "\n",
    "print(f1**f2)"
   ]
  },
  {
   "cell_type": "markdown",
   "id": "2f29485c",
   "metadata": {},
   "source": [
    "# 40"
   ]
  },
  {
   "cell_type": "code",
   "execution_count": 87,
   "id": "1c0ac374",
   "metadata": {},
   "outputs": [
    {
     "name": "stdout",
     "output_type": "stream",
     "text": [
      "10 3\n",
      "3\n"
     ]
    }
   ],
   "source": [
    "a,b =input().split()\n",
    "\n",
    "a = int(a)\n",
    "b = int(b)\n",
    "\n",
    "print(a//b)"
   ]
  },
  {
   "cell_type": "markdown",
   "id": "dfba519c",
   "metadata": {},
   "source": [
    "# 1월 26일"
   ]
  },
  {
   "cell_type": "markdown",
   "id": "7df7d548",
   "metadata": {},
   "source": [
    "# 41"
   ]
  },
  {
   "cell_type": "code",
   "execution_count": 1,
   "id": "49f4b0f2",
   "metadata": {},
   "outputs": [
    {
     "name": "stdout",
     "output_type": "stream",
     "text": [
      "10 3\n",
      "1\n"
     ]
    }
   ],
   "source": [
    "a,b = input().split()\n",
    "\n",
    "a = int(a)\n",
    "b = int(b)\n",
    "\n",
    "print(a%b)"
   ]
  },
  {
   "cell_type": "markdown",
   "id": "cd51d2d5",
   "metadata": {},
   "source": [
    "# 42"
   ]
  },
  {
   "cell_type": "code",
   "execution_count": 3,
   "id": "cca75c93",
   "metadata": {},
   "outputs": [
    {
     "name": "stdout",
     "output_type": "stream",
     "text": [
      "3.141592\n",
      "3.14\n"
     ]
    }
   ],
   "source": [
    "a = input()\n",
    "\n",
    "a = float(a)\n",
    "\n",
    "print(format(a,\".2f\"))"
   ]
  },
  {
   "cell_type": "markdown",
   "id": "4596a481",
   "metadata": {},
   "source": [
    "# 43"
   ]
  },
  {
   "cell_type": "code",
   "execution_count": 1,
   "id": "4d7064d6",
   "metadata": {},
   "outputs": [
    {
     "name": "stdout",
     "output_type": "stream",
     "text": [
      "10.0 3.0\n",
      "3.333\n"
     ]
    }
   ],
   "source": [
    "f1,f2 = input().split()\n",
    "\n",
    "f1 = float(f1)\n",
    "f2 = float(f2)\n",
    "\n",
    "print(format(f1/f2,'.3f'))"
   ]
  },
  {
   "cell_type": "markdown",
   "id": "9746b502",
   "metadata": {},
   "source": [
    "# 1월 28일"
   ]
  },
  {
   "cell_type": "markdown",
   "id": "250a8fe9",
   "metadata": {},
   "source": [
    "# 44"
   ]
  },
  {
   "cell_type": "code",
   "execution_count": 4,
   "id": "fb6cd605",
   "metadata": {},
   "outputs": [
    {
     "name": "stdout",
     "output_type": "stream",
     "text": [
      "10 3\n",
      "13\n",
      "7\n",
      "30\n",
      "3\n",
      "1\n",
      "3.33\n"
     ]
    }
   ],
   "source": [
    "a,b = input().split()\n",
    "\n",
    "a = int(a)\n",
    "b = int(b)\n",
    "\n",
    "print(a+b)\n",
    "print(a-b)\n",
    "print(a*b)\n",
    "print(a//b)\n",
    "print(a%b)\n",
    "print(format(a/b,'.2f'))"
   ]
  },
  {
   "cell_type": "markdown",
   "id": "097d3a82",
   "metadata": {},
   "source": [
    "# 45"
   ]
  },
  {
   "cell_type": "code",
   "execution_count": 8,
   "id": "d8910fad",
   "metadata": {},
   "outputs": [
    {
     "name": "stdout",
     "output_type": "stream",
     "text": [
      "1 2 3\n",
      "6 2.00\n"
     ]
    }
   ],
   "source": [
    "a,b,c = input().split()\n",
    "\n",
    "a = int(a)\n",
    "b = int(b)\n",
    "c = int(c)\n",
    "\n",
    "d = a+b+c\n",
    "print(d, format(d/3,'.2f'))"
   ]
  },
  {
   "cell_type": "markdown",
   "id": "23668eb0",
   "metadata": {},
   "source": [
    "# 46"
   ]
  },
  {
   "cell_type": "code",
   "execution_count": 10,
   "id": "6b4aafd6",
   "metadata": {},
   "outputs": [
    {
     "name": "stdout",
     "output_type": "stream",
     "text": [
      "1024\n",
      "2048\n"
     ]
    }
   ],
   "source": [
    "a = int(input())\n",
    "\n",
    "print(a<<1)"
   ]
  },
  {
   "cell_type": "markdown",
   "id": "acf971e9",
   "metadata": {},
   "source": [
    "# 47"
   ]
  },
  {
   "cell_type": "code",
   "execution_count": 13,
   "id": "0d08c5d0",
   "metadata": {},
   "outputs": [
    {
     "name": "stdout",
     "output_type": "stream",
     "text": [
      "1 3\n",
      "8\n"
     ]
    }
   ],
   "source": [
    "a,b = input().split()\n",
    "\n",
    "a = int(a)\n",
    "b = int(b)\n",
    "\n",
    "total = a << b\n",
    "\n",
    "print(total)"
   ]
  },
  {
   "cell_type": "markdown",
   "id": "86ad0b8c",
   "metadata": {},
   "source": [
    "# 48"
   ]
  },
  {
   "cell_type": "code",
   "execution_count": 16,
   "id": "ba57838f",
   "metadata": {},
   "outputs": [
    {
     "name": "stdout",
     "output_type": "stream",
     "text": [
      "1 9\n",
      "True\n"
     ]
    }
   ],
   "source": [
    "a,b = input().split()\n",
    "\n",
    "a = int(a)\n",
    "b = int(b)\n",
    "\n",
    "if a < b:\n",
    "    print(True)\n",
    "else:\n",
    "    print(False)"
   ]
  },
  {
   "cell_type": "markdown",
   "id": "35619bd7",
   "metadata": {},
   "source": [
    "# 49"
   ]
  },
  {
   "cell_type": "code",
   "execution_count": 17,
   "id": "5e194498",
   "metadata": {},
   "outputs": [
    {
     "name": "stdout",
     "output_type": "stream",
     "text": [
      "0 0\n",
      "True\n"
     ]
    }
   ],
   "source": [
    "a,b = input().split()\n",
    "\n",
    "a = int(a)\n",
    "b = int(b)\n",
    "\n",
    "if a == b:\n",
    "    print(True)\n",
    "else : \n",
    "    print(False)"
   ]
  },
  {
   "cell_type": "markdown",
   "id": "0b02c2b9",
   "metadata": {},
   "source": [
    "# 50"
   ]
  },
  {
   "cell_type": "code",
   "execution_count": 18,
   "id": "caaa9821",
   "metadata": {},
   "outputs": [
    {
     "name": "stdout",
     "output_type": "stream",
     "text": [
      "0 -1\n",
      "False\n"
     ]
    }
   ],
   "source": [
    "a,b = input().split()\n",
    "\n",
    "if b >= a:\n",
    "    print(True)\n",
    "    \n",
    "else:\n",
    "    print(False)"
   ]
  },
  {
   "cell_type": "markdown",
   "id": "0cce9aee",
   "metadata": {},
   "source": [
    "# 1월 28일"
   ]
  },
  {
   "cell_type": "markdown",
   "id": "c99e27f2",
   "metadata": {},
   "source": [
    "# 51"
   ]
  },
  {
   "cell_type": "code",
   "execution_count": 2,
   "id": "74ed7a36",
   "metadata": {},
   "outputs": [
    {
     "name": "stdout",
     "output_type": "stream",
     "text": [
      "0 1\n",
      "True\n"
     ]
    }
   ],
   "source": [
    "a,b =input().split()\n",
    "\n",
    "a = int(a)\n",
    "b = int(b)\n",
    "\n",
    "if a != b :\n",
    "    print(True)\n",
    "    \n",
    "else :\n",
    "    print(False)"
   ]
  },
  {
   "cell_type": "markdown",
   "id": "80f14a8d",
   "metadata": {},
   "source": [
    "# 52 - 체크"
   ]
  },
  {
   "cell_type": "code",
   "execution_count": 8,
   "id": "a6fd57e6",
   "metadata": {},
   "outputs": [
    {
     "name": "stdout",
     "output_type": "stream",
     "text": [
      "5.0\n",
      "False\n"
     ]
    }
   ],
   "source": [
    "a= input()\n",
    "\n",
    "if '.' in a:\n",
    "    print(False)\n",
    "    \n",
    "else:\n",
    "    print(True)"
   ]
  },
  {
   "cell_type": "markdown",
   "id": "f7b1564d",
   "metadata": {},
   "source": [
    "# 53"
   ]
  },
  {
   "cell_type": "code",
   "execution_count": 10,
   "id": "2e620d68",
   "metadata": {},
   "outputs": [
    {
     "name": "stdout",
     "output_type": "stream",
     "text": [
      "1\n",
      "False\n"
     ]
    }
   ],
   "source": [
    "a = input()\n",
    "\n",
    "a = int(a)\n",
    "\n",
    "if bool(a):\n",
    "    print(False)\n",
    "\n",
    "else:\n",
    "    print(True)"
   ]
  },
  {
   "cell_type": "markdown",
   "id": "756c375d",
   "metadata": {},
   "source": [
    "# 54"
   ]
  },
  {
   "cell_type": "code",
   "execution_count": 11,
   "id": "b86a9f2d",
   "metadata": {},
   "outputs": [
    {
     "name": "stdout",
     "output_type": "stream",
     "text": [
      "1 1\n",
      "True\n"
     ]
    }
   ],
   "source": [
    "a,b = input().split()\n",
    "\n",
    "a = int(a)\n",
    "b = int(b)\n",
    "\n",
    "if bool(a) and bool(b):\n",
    "    print(True)\n",
    "    \n",
    "else:\n",
    "    print(False)"
   ]
  },
  {
   "cell_type": "markdown",
   "id": "641d2ff2",
   "metadata": {},
   "source": [
    "# 55"
   ]
  },
  {
   "cell_type": "code",
   "execution_count": 12,
   "id": "809ca4bf",
   "metadata": {},
   "outputs": [
    {
     "name": "stdout",
     "output_type": "stream",
     "text": [
      "1 1\n",
      "True\n"
     ]
    }
   ],
   "source": [
    "a,b = input().split()\n",
    "\n",
    "a = int(a)\n",
    "b = int(b)\n",
    "\n",
    "if bool(a) or bool(b):\n",
    "    print(True)\n",
    "    \n",
    "else:\n",
    "    print(False)"
   ]
  },
  {
   "cell_type": "markdown",
   "id": "b93d1e4b",
   "metadata": {},
   "source": [
    "# 56"
   ]
  },
  {
   "cell_type": "code",
   "execution_count": 13,
   "id": "d85125ed",
   "metadata": {},
   "outputs": [
    {
     "name": "stdout",
     "output_type": "stream",
     "text": [
      "1 1\n",
      "False\n"
     ]
    }
   ],
   "source": [
    "a,b = input().split()\n",
    "\n",
    "a = int(a)\n",
    "b = int(b)\n",
    "\n",
    "if bool(a) != bool(b):\n",
    "    print(True)\n",
    "    \n",
    "else:\n",
    "    print(False)"
   ]
  },
  {
   "cell_type": "markdown",
   "id": "2789659d",
   "metadata": {},
   "source": [
    "# 57"
   ]
  },
  {
   "cell_type": "code",
   "execution_count": 16,
   "id": "975ce56a",
   "metadata": {},
   "outputs": [
    {
     "name": "stdout",
     "output_type": "stream",
     "text": [
      "0 0\n",
      "True\n"
     ]
    }
   ],
   "source": [
    "a,b = input().split()\n",
    "\n",
    "a = int(a)\n",
    "b = int(b)\n",
    "\n",
    "if bool(a) == bool(b):\n",
    "    print(True)\n",
    "    \n",
    "else:\n",
    "    print(False)\n"
   ]
  },
  {
   "cell_type": "markdown",
   "id": "04b37248",
   "metadata": {},
   "source": [
    "# 58"
   ]
  },
  {
   "cell_type": "code",
   "execution_count": 20,
   "id": "24ba9233",
   "metadata": {},
   "outputs": [
    {
     "name": "stdout",
     "output_type": "stream",
     "text": [
      "0 0\n",
      "True\n"
     ]
    }
   ],
   "source": [
    "a,b = input().split()\n",
    "\n",
    "a = int(a)\n",
    "b = int(b)\n",
    "\n",
    "if (bool(a) == False) and (bool(b) == False):\n",
    "    print(True)\n",
    "    \n",
    "else:\n",
    "    print(False)\n"
   ]
  },
  {
   "cell_type": "markdown",
   "id": "e9046977",
   "metadata": {},
   "source": [
    "# 59 - 체크"
   ]
  },
  {
   "cell_type": "code",
   "execution_count": 28,
   "id": "9267231c",
   "metadata": {},
   "outputs": [
    {
     "name": "stdout",
     "output_type": "stream",
     "text": [
      "2\n",
      "-3\n"
     ]
    }
   ],
   "source": [
    "a = int(input())\n",
    "\n",
    "a = ~a\n",
    "\n",
    "\n",
    "print(a)"
   ]
  },
  {
   "cell_type": "markdown",
   "id": "d0e2e36e",
   "metadata": {},
   "source": [
    "# 60"
   ]
  },
  {
   "cell_type": "code",
   "execution_count": 33,
   "id": "cfcd1a11",
   "metadata": {},
   "outputs": [
    {
     "name": "stdout",
     "output_type": "stream",
     "text": [
      "3 5\n",
      "1\n",
      "0b1\n"
     ]
    }
   ],
   "source": [
    "a,b = input().split()\n",
    "\n",
    "a = int(a)\n",
    "b = int(b)\n",
    "\n",
    "print(a&b)\n",
    "print(bin(a&b))\n",
    "\n"
   ]
  },
  {
   "cell_type": "markdown",
   "id": "97f357fa",
   "metadata": {},
   "source": [
    "# 61"
   ]
  },
  {
   "cell_type": "code",
   "execution_count": 34,
   "id": "05c2cb65",
   "metadata": {},
   "outputs": [
    {
     "name": "stdout",
     "output_type": "stream",
     "text": [
      "3 5\n",
      "7\n",
      "0b111\n"
     ]
    }
   ],
   "source": [
    "a,b = input().split()\n",
    "\n",
    "a = int(a)\n",
    "b = int(b)\n",
    "\n",
    "print(a|b)\n",
    "print(bin(a|b))"
   ]
  },
  {
   "cell_type": "markdown",
   "id": "138d3c35",
   "metadata": {},
   "source": [
    "# 62"
   ]
  },
  {
   "cell_type": "code",
   "execution_count": 35,
   "id": "59e6447a",
   "metadata": {},
   "outputs": [
    {
     "name": "stdout",
     "output_type": "stream",
     "text": [
      "3 5\n",
      "6\n",
      "0b110\n"
     ]
    }
   ],
   "source": [
    "a,b = input().split()\n",
    "\n",
    "a = int(a)\n",
    "b = int(b)\n",
    "\n",
    "print(a^b)\n",
    "print(bin(a^b))"
   ]
  },
  {
   "cell_type": "markdown",
   "id": "e4ee7ea7",
   "metadata": {},
   "source": [
    "# 63"
   ]
  },
  {
   "cell_type": "code",
   "execution_count": 38,
   "id": "fff29f22",
   "metadata": {},
   "outputs": [
    {
     "name": "stdout",
     "output_type": "stream",
     "text": [
      "123 456\n",
      "456\n"
     ]
    }
   ],
   "source": [
    "a,b = input().split()\n",
    "\n",
    "a = int(a)\n",
    "b = int(b)\n",
    "\n",
    "c = (a if (a>=b) else b)\n",
    "print(c)"
   ]
  },
  {
   "cell_type": "markdown",
   "id": "b7978c2c",
   "metadata": {},
   "source": [
    "# 64"
   ]
  },
  {
   "cell_type": "code",
   "execution_count": 40,
   "id": "89a8d236",
   "metadata": {},
   "outputs": [
    {
     "name": "stdout",
     "output_type": "stream",
     "text": [
      "3 -1 5\n",
      "-1\n"
     ]
    }
   ],
   "source": [
    "a,b,c = input().split()\n",
    "\n",
    "a = int(a)\n",
    "b = int(b)\n",
    "c = int(c)\n",
    "\n",
    "min = (a if (a <= b and a <= c) else (b if (b<=c) else c))\n",
    "print(min)"
   ]
  },
  {
   "cell_type": "markdown",
   "id": "9ac20470",
   "metadata": {},
   "source": [
    "# 65 - 체크"
   ]
  },
  {
   "cell_type": "code",
   "execution_count": 49,
   "id": "a356b807",
   "metadata": {},
   "outputs": [
    {
     "name": "stdout",
     "output_type": "stream",
     "text": [
      "1 2 4\n",
      "2\n",
      "4\n"
     ]
    }
   ],
   "source": [
    "a,b,c = input().split()\n",
    "\n",
    "a = int(a)\n",
    "b = int(b)\n",
    "c = int(c)\n",
    "total = [a,b,c] #체크\n",
    "\n",
    "for i in total:\n",
    "    if (i % 2) == 0:\n",
    "        print(i)\n",
    "        "
   ]
  },
  {
   "cell_type": "markdown",
   "id": "334f03ca",
   "metadata": {},
   "source": [
    "# 66"
   ]
  },
  {
   "cell_type": "code",
   "execution_count": 50,
   "id": "8d61e762",
   "metadata": {
    "scrolled": true
   },
   "outputs": [
    {
     "name": "stdout",
     "output_type": "stream",
     "text": [
      "1 2 8\n",
      "odd\n",
      "even\n",
      "even\n"
     ]
    }
   ],
   "source": [
    "a,b,c = input().split()\n",
    "\n",
    "a = int(a)\n",
    "b = int(b)\n",
    "c = int(c)\n",
    "total = [a,b,c]\n",
    "\n",
    "for i in total:\n",
    "    if (i % 2) == 0:\n",
    "        print('even')\n",
    "    else:\n",
    "        print('odd')"
   ]
  },
  {
   "cell_type": "markdown",
   "id": "3362dddf",
   "metadata": {},
   "source": [
    "# 67"
   ]
  },
  {
   "cell_type": "code",
   "execution_count": 53,
   "id": "5da65f58",
   "metadata": {},
   "outputs": [
    {
     "name": "stdout",
     "output_type": "stream",
     "text": [
      "-2147483648\n",
      "음수이면서 짝수이면,A\n"
     ]
    }
   ],
   "source": [
    "a = input()\n",
    "\n",
    "a = int(a)\n",
    "\n",
    "if a < 0:\n",
    "    if a % 2 ==0:\n",
    "        print('음수이면서 짝수이면,A')\n",
    "    else:\n",
    "        print('음수이면서 홀수이면,B')\n",
    "        \n",
    "else:\n",
    "    if a % 2 ==0:\n",
    "        print('양수이면서 짝수이면,A')\n",
    "    else:\n",
    "        print('양수이면서 홀수이면,B')\n",
    "    "
   ]
  },
  {
   "cell_type": "markdown",
   "id": "57643b20",
   "metadata": {},
   "source": [
    "# 68"
   ]
  },
  {
   "cell_type": "code",
   "execution_count": 63,
   "id": "533ba8a4",
   "metadata": {},
   "outputs": [
    {
     "name": "stdout",
     "output_type": "stream",
     "text": [
      "73\n",
      "B\n"
     ]
    }
   ],
   "source": [
    "a = input()\n",
    "\n",
    "a = int(a)\n",
    "\n",
    "\n",
    "if a >= 90:\n",
    "    print('A')\n",
    "\n",
    "    \n",
    "elif a >= 70:\n",
    "    print('B')\n",
    "\n",
    "elif a >= 40:\n",
    "    print('C')\n",
    "\n",
    "    \n",
    "else:\n",
    "    print('D')"
   ]
  },
  {
   "cell_type": "markdown",
   "id": "a672f5bd",
   "metadata": {},
   "source": [
    "# 69"
   ]
  },
  {
   "cell_type": "code",
   "execution_count": 64,
   "id": "f78724fe",
   "metadata": {},
   "outputs": [
    {
     "name": "stdout",
     "output_type": "stream",
     "text": [
      "A\n",
      "best!!!\n"
     ]
    }
   ],
   "source": [
    "a = input()\n",
    "\n",
    "if a == 'A':\n",
    "    print('best!!!')\n",
    "elif a == 'B':\n",
    "    print('good!!')\n",
    "elif a == 'C':\n",
    "    print('run!')\n",
    "elif a == 'D':\n",
    "    print('slowly~')\n",
    "else:\n",
    "    print('what?')"
   ]
  },
  {
   "cell_type": "markdown",
   "id": "c5cf8206",
   "metadata": {},
   "source": [
    "# 70"
   ]
  },
  {
   "cell_type": "code",
   "execution_count": 65,
   "id": "acad17d7",
   "metadata": {},
   "outputs": [
    {
     "name": "stdout",
     "output_type": "stream",
     "text": [
      "12\n",
      "winter\n"
     ]
    }
   ],
   "source": [
    "a = input()\n",
    "\n",
    "a = int(a)\n",
    "\n",
    "w = [12,1,2]\n",
    "s = [3,4,5]\n",
    "sm = [6,7.8]\n",
    "fa = [9,10,11]\n",
    "\n",
    "if a in w:\n",
    "    print('winter')\n",
    "elif a in s:\n",
    "    print('spring')\n",
    "elif a in sm:\n",
    "    print('summer')\n",
    "elif a in fa:\n",
    "    print('fall')"
   ]
  },
  {
   "cell_type": "markdown",
   "id": "9a784f5e",
   "metadata": {},
   "source": [
    "# 71"
   ]
  },
  {
   "cell_type": "code",
   "execution_count": 71,
   "id": "84f91bed",
   "metadata": {},
   "outputs": [
    {
     "name": "stdout",
     "output_type": "stream",
     "text": [
      "1\n",
      "1\n",
      "2\n",
      "2\n",
      "3\n",
      "3\n",
      "0\n",
      "0\n"
     ]
    }
   ],
   "source": [
    "n = 1\n",
    "\n",
    "while n != 0:\n",
    "    n = int(input())\n",
    "    print(n)"
   ]
  },
  {
   "cell_type": "markdown",
   "id": "d4abb0e8",
   "metadata": {},
   "source": [
    "# 72"
   ]
  },
  {
   "cell_type": "code",
   "execution_count": 72,
   "id": "87392f5b",
   "metadata": {},
   "outputs": [
    {
     "name": "stdout",
     "output_type": "stream",
     "text": [
      "5\n",
      "5\n",
      "4\n",
      "3\n",
      "2\n",
      "1\n"
     ]
    }
   ],
   "source": [
    "n = int(input())\n",
    "\n",
    "while n != 0:\n",
    "    print(n)\n",
    "    n -= 1"
   ]
  },
  {
   "cell_type": "markdown",
   "id": "4964ecfc",
   "metadata": {},
   "source": [
    "# 73"
   ]
  },
  {
   "cell_type": "code",
   "execution_count": 73,
   "id": "b839ad17",
   "metadata": {},
   "outputs": [
    {
     "name": "stdout",
     "output_type": "stream",
     "text": [
      "5\n",
      "4\n",
      "3\n",
      "2\n",
      "1\n",
      "0\n"
     ]
    }
   ],
   "source": [
    "n = int(input())\n",
    "\n",
    "while n != 0:\n",
    "    n -= 1\n",
    "    print(n)\n",
    "    "
   ]
  },
  {
   "cell_type": "markdown",
   "id": "f2ce4b9b",
   "metadata": {},
   "source": [
    "# 74 - 체크"
   ]
  },
  {
   "cell_type": "code",
   "execution_count": 76,
   "id": "f00583de",
   "metadata": {},
   "outputs": [
    {
     "name": "stdout",
     "output_type": "stream",
     "text": [
      "f\n",
      "a b c d e f "
     ]
    }
   ],
   "source": [
    "a = ord(input())\n",
    "\n",
    "c = ord('a')\n",
    "\n",
    "while c <= a:\n",
    "    print(chr(c), end=' ')\n",
    "    c +=1 "
   ]
  },
  {
   "cell_type": "markdown",
   "id": "0bee356d",
   "metadata": {},
   "source": [
    "# 75"
   ]
  },
  {
   "cell_type": "code",
   "execution_count": 77,
   "id": "5c1e5091",
   "metadata": {},
   "outputs": [
    {
     "name": "stdout",
     "output_type": "stream",
     "text": [
      "4\n",
      "0\n",
      "1\n",
      "2\n",
      "3\n",
      "4\n"
     ]
    }
   ],
   "source": [
    "number = int(input())\n",
    "c = 0\n",
    "\n",
    "while c <= number:\n",
    "    print(c)\n",
    "    c += 1\n"
   ]
  },
  {
   "cell_type": "markdown",
   "id": "390d2fa1",
   "metadata": {},
   "source": [
    "# 76"
   ]
  },
  {
   "cell_type": "code",
   "execution_count": 79,
   "id": "a91a2e84",
   "metadata": {},
   "outputs": [
    {
     "name": "stdout",
     "output_type": "stream",
     "text": [
      "5\n",
      "0\n",
      "1\n",
      "2\n",
      "3\n",
      "4\n",
      "5\n"
     ]
    }
   ],
   "source": [
    "number = int(input())\n",
    "\n",
    "for i in range(number+1):\n",
    "    print(i)"
   ]
  },
  {
   "cell_type": "markdown",
   "id": "53a67ee3",
   "metadata": {},
   "source": [
    "# 77"
   ]
  },
  {
   "cell_type": "code",
   "execution_count": 81,
   "id": "c51db186",
   "metadata": {},
   "outputs": [
    {
     "name": "stdout",
     "output_type": "stream",
     "text": [
      "5\n",
      "6\n"
     ]
    }
   ],
   "source": [
    "number = int(input())\n",
    "total = 0\n",
    "\n",
    "for i in range(number+1):\n",
    "    if i % 2 == 0:\n",
    "        total += i \n",
    "        \n",
    "        \n",
    "print(total)"
   ]
  },
  {
   "cell_type": "markdown",
   "id": "d640e065",
   "metadata": {},
   "source": [
    "# 78"
   ]
  },
  {
   "cell_type": "code",
   "execution_count": 84,
   "id": "256d3fc6",
   "metadata": {},
   "outputs": [
    {
     "name": "stdout",
     "output_type": "stream",
     "text": [
      "n\n",
      "n\n",
      "a\n",
      "a\n",
      "q\n"
     ]
    }
   ],
   "source": [
    "n = input()\n",
    "\n",
    "while n != 'q':\n",
    "    print(n)\n",
    "    n = input()"
   ]
  },
  {
   "cell_type": "markdown",
   "id": "9d1d77bd",
   "metadata": {},
   "source": [
    "# 79"
   ]
  },
  {
   "cell_type": "code",
   "execution_count": 94,
   "id": "2618e588",
   "metadata": {},
   "outputs": [
    {
     "name": "stdout",
     "output_type": "stream",
     "text": [
      "55\n",
      "10\n"
     ]
    }
   ],
   "source": [
    "n = int(input())\n",
    "total = 0\n",
    "t = 0\n",
    "\n",
    "while total <= n:\n",
    "    t += 1\n",
    "    total += t\n",
    "    if total >= n:\n",
    "        break\n",
    "\n",
    "print(t)"
   ]
  },
  {
   "cell_type": "markdown",
   "id": "f44bf4b4",
   "metadata": {},
   "source": [
    "# 80"
   ]
  },
  {
   "cell_type": "code",
   "execution_count": 99,
   "id": "b1051d88",
   "metadata": {},
   "outputs": [
    {
     "name": "stdout",
     "output_type": "stream",
     "text": [
      "2 3\n",
      "1 1\n",
      "1 2\n",
      "1 3\n",
      "2 1\n",
      "2 2\n",
      "2 3\n"
     ]
    }
   ],
   "source": [
    "n, m = input().split()\n",
    "\n",
    "n = int(n)\n",
    "m = int(m)\n",
    "\n",
    "for i in range(n):\n",
    "    for j in range(m):\n",
    "        print(i+1, j+1)"
   ]
  },
  {
   "cell_type": "markdown",
   "id": "8a08f457",
   "metadata": {},
   "source": [
    "# 1월 30일"
   ]
  },
  {
   "cell_type": "markdown",
   "id": "ad44abc2",
   "metadata": {},
   "source": [
    "# 81"
   ]
  },
  {
   "cell_type": "code",
   "execution_count": 10,
   "id": "b2dcb11b",
   "metadata": {},
   "outputs": [
    {
     "name": "stdout",
     "output_type": "stream",
     "text": [
      "B\n",
      "B*1 =  B\n",
      "B*2 =  16\n",
      "B*3 =  21\n",
      "B*4 =  2C\n",
      "B*5 =  37\n",
      "B*6 =  42\n",
      "B*7 =  4D\n",
      "B*8 =  58\n",
      "B*9 =  63\n",
      "B*A =  6E\n",
      "B*B =  79\n",
      "B*C =  84\n",
      "B*D =  8F\n",
      "B*E =  9A\n",
      "B*F =  A5\n"
     ]
    }
   ],
   "source": [
    "a = input()\n",
    "\n",
    "c= int(a, 16)\n",
    "\n",
    "b = 1\n",
    "while b <16:\n",
    "    total1 = c*b\n",
    "    total2 = format(total1, 'X')\n",
    "    \n",
    "    k = format(b, 'X')\n",
    "    print('{}*{} = '.format(a,k), total2)\n",
    "    \n",
    "    b+=1"
   ]
  },
  {
   "cell_type": "markdown",
   "id": "fe50fb66",
   "metadata": {},
   "source": [
    "# 82"
   ]
  },
  {
   "cell_type": "code",
   "execution_count": 16,
   "id": "3d018089",
   "metadata": {},
   "outputs": [
    {
     "name": "stdout",
     "output_type": "stream",
     "text": [
      "9\n",
      "1 2 박수(X) 4 5 박수(X) 7 8 박수(X) 10 "
     ]
    }
   ],
   "source": [
    "a = int(input())\n",
    "\n",
    "for i in range(a+1):\n",
    "    if (i+1) % 3 == 0:\n",
    "        print('박수(X)',end = ' ')\n",
    "    else :\n",
    "        print(i+1, end = ' ')"
   ]
  },
  {
   "cell_type": "markdown",
   "id": "386e62fb",
   "metadata": {},
   "source": [
    "# 83"
   ]
  },
  {
   "cell_type": "code",
   "execution_count": 23,
   "id": "8935bb7c",
   "metadata": {},
   "outputs": [
    {
     "name": "stdout",
     "output_type": "stream",
     "text": [
      "2 2 2\n",
      "0 0 0\n",
      "0 0 1\n",
      "0 1 0\n",
      "0 1 1\n",
      "1 0 0\n",
      "1 0 1\n",
      "1 1 0\n",
      "1 1 1\n",
      "8\n"
     ]
    }
   ],
   "source": [
    "r, g, b = input().split()\n",
    "\n",
    "r = int(r)\n",
    "g = int(g)\n",
    "b = int(b)\n",
    "\n",
    "\n",
    "for i in range(r):\n",
    "    for j in range(g):\n",
    "        for k in range(b):\n",
    "            print(i,j,k)\n",
    "            \n",
    "print(r*g*b)"
   ]
  },
  {
   "cell_type": "markdown",
   "id": "2774bc44",
   "metadata": {},
   "source": [
    "# 84"
   ]
  },
  {
   "cell_type": "code",
   "execution_count": 26,
   "id": "10a0f592",
   "metadata": {},
   "outputs": [
    {
     "name": "stdout",
     "output_type": "stream",
     "text": [
      "44100 16 2 10\n",
      "1.7 MB\n"
     ]
    }
   ],
   "source": [
    "h, b, c, s = input().split()\n",
    "\n",
    "h = int(h)\n",
    "b = int(b)\n",
    "c = int(c)\n",
    "s = int(s)\n",
    "\n",
    "print(round(h*b*c*s / 8 /1024 /1024,1),'MB')"
   ]
  },
  {
   "cell_type": "markdown",
   "id": "84fd465c",
   "metadata": {},
   "source": [
    "# 85"
   ]
  },
  {
   "cell_type": "code",
   "execution_count": 27,
   "id": "9a66023a",
   "metadata": {},
   "outputs": [
    {
     "name": "stdout",
     "output_type": "stream",
     "text": [
      "1024 768 24\n",
      "2.25 MB\n"
     ]
    }
   ],
   "source": [
    "w, h ,b = input().split()\n",
    "\n",
    "w = int(w)\n",
    "h = int(h)\n",
    "b = int(b)\n",
    "\n",
    "print(w*h*b / 8 / 1024/ 1024,'MB')"
   ]
  },
  {
   "cell_type": "markdown",
   "id": "2edb59c0",
   "metadata": {},
   "source": [
    "# 86"
   ]
  },
  {
   "cell_type": "code",
   "execution_count": 31,
   "id": "d97b833c",
   "metadata": {},
   "outputs": [
    {
     "name": "stdout",
     "output_type": "stream",
     "text": [
      "57\n",
      "66\n"
     ]
    }
   ],
   "source": [
    "n = input()\n",
    "n = int(n)\n",
    "\n",
    "i = 0\n",
    "k = 1\n",
    "while i < n:\n",
    "    i += k\n",
    "    k += 1\n",
    "    if i > n:\n",
    "        print(i)\n",
    "        break"
   ]
  },
  {
   "cell_type": "markdown",
   "id": "6c272784",
   "metadata": {},
   "source": [
    "# 87"
   ]
  },
  {
   "cell_type": "code",
   "execution_count": 34,
   "id": "1f8759f1",
   "metadata": {},
   "outputs": [
    {
     "name": "stdout",
     "output_type": "stream",
     "text": [
      "10\n",
      "1 2 4 5 7 8 10 "
     ]
    }
   ],
   "source": [
    "n = int(input())\n",
    "\n",
    "for i in range(n+1):\n",
    "    if i % 3 != 0:\n",
    "        print(i,end=' ')\n"
   ]
  },
  {
   "cell_type": "markdown",
   "id": "89285770",
   "metadata": {},
   "source": [
    "# 88"
   ]
  },
  {
   "cell_type": "code",
   "execution_count": 37,
   "id": "16214f3a",
   "metadata": {},
   "outputs": [
    {
     "name": "stdout",
     "output_type": "stream",
     "text": [
      "1 3 5\n",
      "13\n"
     ]
    }
   ],
   "source": [
    "a, d, n = input().split()\n",
    "\n",
    "a = int(a)\n",
    "d = int(d)\n",
    "n = int(n)\n",
    "i = 0\n",
    "total = 0\n",
    "\n",
    "\n",
    "while i < n:\n",
    "    total = a\n",
    "    a += d\n",
    "    i += 1\n",
    "print(total)\n",
    "    "
   ]
  },
  {
   "cell_type": "markdown",
   "id": "15443564",
   "metadata": {},
   "source": [
    "# 89"
   ]
  },
  {
   "cell_type": "code",
   "execution_count": 38,
   "id": "2376caba",
   "metadata": {},
   "outputs": [
    {
     "name": "stdout",
     "output_type": "stream",
     "text": [
      "2 3 7\n",
      "1458\n"
     ]
    }
   ],
   "source": [
    "a, r, n = input().split()\n",
    "\n",
    "a = int(a)\n",
    "r = int(r)\n",
    "n = int(n)\n",
    "i = 0\n",
    "\n",
    "while i < n:\n",
    "    total = a\n",
    "    a *= r\n",
    "    i += 1\n",
    "    \n",
    "print(total)"
   ]
  },
  {
   "cell_type": "markdown",
   "id": "25f5e180",
   "metadata": {},
   "source": [
    "# 90"
   ]
  },
  {
   "cell_type": "code",
   "execution_count": 39,
   "id": "14001af0",
   "metadata": {},
   "outputs": [
    {
     "name": "stdout",
     "output_type": "stream",
     "text": [
      "1 -2 1 8\n",
      "-85\n"
     ]
    }
   ],
   "source": [
    "a, m, d ,n = input().split()\n",
    "\n",
    "a = int(a)\n",
    "m = int(m)\n",
    "d = int(d)\n",
    "n = int(n)\n",
    "i = 0\n",
    "\n",
    "while i < n:\n",
    "    total = a\n",
    "    a = (a*m) + d\n",
    "    i += 1\n",
    "\n",
    "print(total)"
   ]
  },
  {
   "cell_type": "markdown",
   "id": "ba575a1a",
   "metadata": {},
   "source": [
    "# 91 - 체크"
   ]
  },
  {
   "cell_type": "code",
   "execution_count": 40,
   "id": "d070251f",
   "metadata": {},
   "outputs": [
    {
     "name": "stdout",
     "output_type": "stream",
     "text": [
      "3 7 9\n",
      "63\n"
     ]
    }
   ],
   "source": [
    "a, b, c = input().split()\n",
    "\n",
    "a = int(a)\n",
    "b = int(b)\n",
    "c = int(c)\n",
    "d =1\n",
    "\n",
    "while d%a!=0 or d%b!=0 or d%c!=0:\n",
    "    d +=1\n",
    "print(d)"
   ]
  },
  {
   "cell_type": "markdown",
   "id": "88320fc7",
   "metadata": {},
   "source": [
    "# 2월 1일"
   ]
  },
  {
   "cell_type": "markdown",
   "id": "e6f13092",
   "metadata": {},
   "source": [
    "# 92"
   ]
  },
  {
   "cell_type": "code",
   "execution_count": 4,
   "id": "ebce2d9b",
   "metadata": {},
   "outputs": [
    {
     "name": "stdout",
     "output_type": "stream",
     "text": [
      "10\n",
      "1 3 2 2 5 6 7 4 5 9\n",
      "1 2 1 1 2 1 1 0 1 0 0 0 0 0 0 0 0 0 0 0 0 0 0 "
     ]
    }
   ],
   "source": [
    "n = int(input())\n",
    "a = input().split()\n",
    "\n",
    "for i in range(n):\n",
    "    a[i] = int(a[i])\n",
    "    \n",
    "d = []\n",
    "for i in range(24):\n",
    "    d.append(0)\n",
    "    \n",
    "for i in range(n):\n",
    "    d[a[i]] += 1\n",
    "    \n",
    "for i in range(1, 24):\n",
    "    print(d[i], end = ' ')\n",
    "    "
   ]
  },
  {
   "cell_type": "markdown",
   "id": "6ed48005",
   "metadata": {},
   "source": [
    "# 93"
   ]
  },
  {
   "cell_type": "code",
   "execution_count": 10,
   "id": "07996c6c",
   "metadata": {},
   "outputs": [
    {
     "name": "stdout",
     "output_type": "stream",
     "text": [
      "10\n",
      "10 4 2 3 6 6 7 9 8 5\n",
      "5 8 9 7 6 6 3 2 4 10 "
     ]
    }
   ],
   "source": [
    "n = int(input())\n",
    "a = input().split()\n",
    "\n",
    "for i in range(n):\n",
    "    a[i] = int(a[i])\n",
    "    \n",
    "    \n",
    "for i in range(n-1,-1, -1):\n",
    "    print(a[i], end = ' ')\n",
    "    \n"
   ]
  },
  {
   "cell_type": "markdown",
   "id": "fed5246c",
   "metadata": {},
   "source": [
    "# 94"
   ]
  },
  {
   "cell_type": "code",
   "execution_count": 12,
   "id": "487b35e6",
   "metadata": {},
   "outputs": [
    {
     "name": "stdout",
     "output_type": "stream",
     "text": [
      "10\n",
      "10 4 2 3 6 6 7 9 8 5\n",
      "2\n"
     ]
    }
   ],
   "source": [
    "n = int(input())\n",
    "a = input().split()\n",
    "\n",
    "\n",
    "for i in range(n):\n",
    "    a[i] = int(a[i])\n",
    "    \n",
    "k = a[0]\n",
    "for i in range(n):\n",
    "    if a[i] < k:\n",
    "        k = a[i]\n",
    "        \n",
    "print(k)"
   ]
  },
  {
   "cell_type": "markdown",
   "id": "39a439e6",
   "metadata": {},
   "source": [
    "# 95"
   ]
  },
  {
   "cell_type": "code",
   "execution_count": 34,
   "id": "7d2967b5",
   "metadata": {
    "scrolled": true
   },
   "outputs": [
    {
     "name": "stdout",
     "output_type": "stream",
     "text": [
      "5\n",
      "1 1\n",
      "2 2\n",
      "3 3\n",
      "4 4\n",
      "5 5\n",
      "1 0 0 0 0 0 0 0 0 0 0 0 0 0 0 0 0 0 0 \n",
      "0 1 0 0 0 0 0 0 0 0 0 0 0 0 0 0 0 0 0 \n",
      "0 0 1 0 0 0 0 0 0 0 0 0 0 0 0 0 0 0 0 \n",
      "0 0 0 1 0 0 0 0 0 0 0 0 0 0 0 0 0 0 0 \n",
      "0 0 0 0 1 0 0 0 0 0 0 0 0 0 0 0 0 0 0 \n",
      "0 0 0 0 0 0 0 0 0 0 0 0 0 0 0 0 0 0 0 \n",
      "0 0 0 0 0 0 0 0 0 0 0 0 0 0 0 0 0 0 0 \n",
      "0 0 0 0 0 0 0 0 0 0 0 0 0 0 0 0 0 0 0 \n",
      "0 0 0 0 0 0 0 0 0 0 0 0 0 0 0 0 0 0 0 \n",
      "0 0 0 0 0 0 0 0 0 0 0 0 0 0 0 0 0 0 0 \n",
      "0 0 0 0 0 0 0 0 0 0 0 0 0 0 0 0 0 0 0 \n",
      "0 0 0 0 0 0 0 0 0 0 0 0 0 0 0 0 0 0 0 \n",
      "0 0 0 0 0 0 0 0 0 0 0 0 0 0 0 0 0 0 0 \n",
      "0 0 0 0 0 0 0 0 0 0 0 0 0 0 0 0 0 0 0 \n",
      "0 0 0 0 0 0 0 0 0 0 0 0 0 0 0 0 0 0 0 \n",
      "0 0 0 0 0 0 0 0 0 0 0 0 0 0 0 0 0 0 0 \n",
      "0 0 0 0 0 0 0 0 0 0 0 0 0 0 0 0 0 0 0 \n",
      "0 0 0 0 0 0 0 0 0 0 0 0 0 0 0 0 0 0 0 \n",
      "0 0 0 0 0 0 0 0 0 0 0 0 0 0 0 0 0 0 0 \n"
     ]
    }
   ],
   "source": [
    "n = int(input())\n",
    "\n",
    "\n",
    "\n",
    "d = []\n",
    "\n",
    "for i in range(20):\n",
    "    d.append([])\n",
    "    for j in range(20):\n",
    "        d[i].append(0)\n",
    "\n",
    "for i in range(n):\n",
    "    x, y = input().split()\n",
    "\n",
    "    x = int(x)\n",
    "    y = int(y)\n",
    "    \n",
    "    d[x][y] = 1\n",
    "\n",
    "    \n",
    "    \n",
    "for i in range(1,20):\n",
    "    for j in range(1,20):\n",
    "        print(d[i][j], end = ' ')\n",
    "        \n",
    "        \n",
    "    print()  \n",
    "    "
   ]
  },
  {
   "cell_type": "markdown",
   "id": "86f9a165",
   "metadata": {},
   "source": [
    "# 96"
   ]
  },
  {
   "cell_type": "code",
   "execution_count": 39,
   "id": "7548f7f6",
   "metadata": {
    "scrolled": true
   },
   "outputs": [
    {
     "ename": "SyntaxError",
     "evalue": "invalid syntax (2861319117.py, line 2)",
     "output_type": "error",
     "traceback": [
      "\u001b[1;36m  Input \u001b[1;32mIn [39]\u001b[1;36m\u001b[0m\n\u001b[1;33m    print(a!)\u001b[0m\n\u001b[1;37m           ^\u001b[0m\n\u001b[1;31mSyntaxError\u001b[0m\u001b[1;31m:\u001b[0m invalid syntax\n"
     ]
    }
   ],
   "source": [
    "a = 1\n",
    "print(a!)"
   ]
  },
  {
   "cell_type": "code",
   "execution_count": 45,
   "id": "ee6c07b1",
   "metadata": {},
   "outputs": [
    {
     "name": "stdout",
     "output_type": "stream",
     "text": [
      "2\n",
      "10 10\n",
      "12 12\n",
      "0 0 0 0 0 0 0 0 0 1 0 1 0 0 0 0 0 0 0 \n",
      "0 0 0 0 0 0 0 0 0 1 0 1 0 0 0 0 0 0 0 \n",
      "0 0 0 0 0 0 0 0 0 1 0 1 0 0 0 0 0 0 0 \n",
      "0 0 0 0 0 0 0 0 0 1 0 1 0 0 0 0 0 0 0 \n",
      "0 0 0 0 0 0 0 0 0 1 0 1 0 0 0 0 0 0 0 \n",
      "0 0 0 0 0 0 0 0 0 1 0 1 0 0 0 0 0 0 0 \n",
      "0 0 0 0 0 0 0 0 0 1 0 1 0 0 0 0 0 0 0 \n",
      "0 0 0 0 0 0 0 0 0 1 0 1 0 0 0 0 0 0 0 \n",
      "0 0 0 0 0 0 0 0 0 1 0 1 0 0 0 0 0 0 0 \n",
      "1 1 1 1 1 1 1 1 1 1 1 0 1 1 1 1 1 1 1 \n",
      "0 0 0 0 0 0 0 0 0 1 0 1 0 0 0 0 0 0 0 \n",
      "1 1 1 1 1 1 1 1 1 0 1 1 1 1 1 1 1 1 1 \n",
      "0 0 0 0 0 0 0 0 0 1 0 1 0 0 0 0 0 0 0 \n",
      "0 0 0 0 0 0 0 0 0 1 0 1 0 0 0 0 0 0 0 \n",
      "0 0 0 0 0 0 0 0 0 1 0 1 0 0 0 0 0 0 0 \n",
      "0 0 0 0 0 0 0 0 0 1 0 1 0 0 0 0 0 0 0 \n",
      "0 0 0 0 0 0 0 0 0 1 0 1 0 0 0 0 0 0 0 \n",
      "0 0 0 0 0 0 0 0 0 1 0 1 0 0 0 0 0 0 0 \n",
      "0 0 0 0 0 0 0 0 0 1 0 1 0 0 0 0 0 0 0 \n"
     ]
    }
   ],
   "source": [
    "n = int(input())\n",
    "\n",
    "d = []\n",
    "for i in range(20):\n",
    "    d.append([])\n",
    "    for j in range(20):\n",
    "        d[i].append(0)\n",
    "\n",
    "\n",
    "for i in range(n):\n",
    "    x,y = input().split()\n",
    "    x = int(x)\n",
    "    y = int(y)\n",
    "    \n",
    "    for j in range(1,20):\n",
    "        \n",
    "        if d[j][y] == 0:\n",
    "            d[j][y] = 1\n",
    "        else:\n",
    "            d[j][y] = 0\n",
    "            \n",
    "            \n",
    "        if d[x][j] == 0:\n",
    "            d[x][j] = 1\n",
    "        else:\n",
    "            d[x][j] = 0\n",
    "            \n",
    "            \n",
    "        if d[x][y] == 0:\n",
    "            d[x][y] = 1\n",
    "        else:\n",
    "            d[x][y] = 0\n",
    "            \n",
    "        \n",
    "            \n",
    "for i in range(1,20):\n",
    "    for j in range(1,20):\n",
    "        print(d[i][j], end = ' ')\n",
    "        \n",
    "    print()\n"
   ]
  },
  {
   "cell_type": "markdown",
   "id": "8bd48931",
   "metadata": {},
   "source": [
    "# 97"
   ]
  },
  {
   "cell_type": "code",
   "execution_count": 57,
   "id": "b8a5e492",
   "metadata": {},
   "outputs": [
    {
     "name": "stdout",
     "output_type": "stream",
     "text": [
      "5 5\n",
      "3\n",
      "2 0 1 1\n",
      "3 1 2 3\n",
      "4 1 2 5\n",
      "1 1 0 0 0 \n",
      "0 0 1 0 1 \n",
      "0 0 1 0 1 \n",
      "0 0 1 0 1 \n",
      "0 0 0 0 1 \n"
     ]
    }
   ],
   "source": [
    "h, w= input().split()\n",
    "h = int(h)\n",
    "w = int(w)\n",
    "\n",
    "n = int(input())\n",
    "\n",
    "\n",
    "\n",
    "k = []\n",
    "for i in range(h+1):\n",
    "    k.append([])\n",
    "    for j in range(w+1):\n",
    "        k[i].append(0)\n",
    "        \n",
    "for i in range(n):\n",
    "    l, d, x, y = input().split()\n",
    "    l = int(l)\n",
    "    d = int(d)\n",
    "    x = int(x)\n",
    "    y = int(y)\n",
    "    \n",
    "    for j in range(l):\n",
    "        if d == 0:\n",
    "            k[x][y+j] = 1\n",
    "            \n",
    "        elif d == 1:\n",
    "            k[x+j][y] = 1\n",
    "            \n",
    "            \n",
    "for i in range(1, h+1):\n",
    "    for j in range(1, w+1):\n",
    "        print(k[i][j], end = ' ')\n",
    "    print()\n",
    "    \n",
    "    \n",
    "    \n",
    "    \n"
   ]
  },
  {
   "cell_type": "markdown",
   "id": "21d49653",
   "metadata": {},
   "source": [
    "# 98"
   ]
  },
  {
   "cell_type": "markdown",
   "id": "1f0bfeb2",
   "metadata": {},
   "source": [
    "1 1 1 1 1 1 1 1 1 1 1  \n",
    "1 1 1 1 1 1 1 1 1 1 1  \n",
    "1 1 0 0 1 0 0 0 0 0 1  \n",
    "1 1 0 0 1 1 1 0 0 0 1  \n",
    "1 1 0 0 0 0 0 0 1 0 1  \n",
    "1 1 0 0 0 0 0 0 1 0 1  \n",
    "1 1 0 0 0 0 1 0 1 0 1  \n",
    "1 1 0 0 0 0 1 2 1 0 1  \n",
    "1 1 0 0 0 0 1 0 0 0 1  \n",
    "1 1 0 0 0 0 0 0 0 0 1  \n",
    "1 1 1 1 1 1 1 1 1 1 1  "
   ]
  },
  {
   "cell_type": "code",
   "execution_count": 77,
   "id": "508f3d34",
   "metadata": {
    "scrolled": true
   },
   "outputs": [
    {
     "name": "stdout",
     "output_type": "stream",
     "text": [
      "1 1 1 1 1 1 1 1 1 1 1\n",
      "1 1 1 1 1 1 1 1 1 1 1\n",
      "1 1 0 0 1 0 0 0 0 0 1\n",
      "1 1 0 0 1 1 1 0 0 0 1\n",
      "1 1 0 0 0 0 0 0 1 0 1\n",
      "1 1 0 0 0 0 0 0 1 0 1\n",
      "1 1 0 0 0 0 1 0 1 0 1\n",
      "1 1 0 0 0 0 1 2 1 0 1\n",
      "1 1 0 0 0 0 1 0 0 0 1\n",
      "1 1 0 0 0 0 0 0 0 0 1\n",
      "1 1 1 1 1 1 1 1 1 1 1\n"
     ]
    }
   ],
   "source": [
    "#x,y = input()\n",
    "#x = int(x)\n",
    "#y = int(y)\n",
    "\n",
    "#k = []\n",
    "#for i in range(x+1):\n",
    "#    k.append([])\n",
    "#    for j in range(y+1):\n",
    "#        k[i].append(0)\n",
    "\n",
    "k = []\n",
    "for i in range(11):\n",
    "    k.append([])    \n",
    "    \n",
    "    n = input().split()       \n",
    "    for j in range(11):\n",
    "        #n[j] = int(n[j])\n",
    "        k[i].append(n[j])"
   ]
  },
  {
   "cell_type": "code",
   "execution_count": 78,
   "id": "8846e2dd",
   "metadata": {},
   "outputs": [
    {
     "data": {
      "text/plain": [
       "[['1', '1', '1', '1', '1', '1', '1', '1', '1', '1', '1'],\n",
       " ['1', '1', '1', '1', '1', '1', '1', '1', '1', '1', '1'],\n",
       " ['1', '1', '0', '0', '1', '0', '0', '0', '0', '0', '1'],\n",
       " ['1', '1', '0', '0', '1', '1', '1', '0', '0', '0', '1'],\n",
       " ['1', '1', '0', '0', '0', '0', '0', '0', '1', '0', '1'],\n",
       " ['1', '1', '0', '0', '0', '0', '0', '0', '1', '0', '1'],\n",
       " ['1', '1', '0', '0', '0', '0', '1', '0', '1', '0', '1'],\n",
       " ['1', '1', '0', '0', '0', '0', '1', '2', '1', '0', '1'],\n",
       " ['1', '1', '0', '0', '0', '0', '1', '0', '0', '0', '1'],\n",
       " ['1', '1', '0', '0', '0', '0', '0', '0', '0', '0', '1'],\n",
       " ['1', '1', '1', '1', '1', '1', '1', '1', '1', '1', '1']]"
      ]
     },
     "execution_count": 78,
     "metadata": {},
     "output_type": "execute_result"
    }
   ],
   "source": [
    "k"
   ]
  },
  {
   "cell_type": "code",
   "execution_count": 84,
   "id": "2c918a14",
   "metadata": {},
   "outputs": [
    {
     "data": {
      "text/plain": [
       "[['1', '1', '1', '1', '1', '1', '1', '1', '1', '1', '1'],\n",
       " ['1', '1', '1', '1', '1', '1', '1', '1', '1', '1', '1'],\n",
       " ['1', '1', '0', '0', '1', '0', '0', '0', '0', '0', '1'],\n",
       " ['1', '1', '0', '0', '1', '1', '1', '0', '0', '0', '1'],\n",
       " ['1', '1', '0', '0', '0', '0', '0', '0', '1', '0', '1'],\n",
       " ['1', '1', '0', '0', '0', '0', '0', '0', '1', '0', '1'],\n",
       " ['1', '1', '0', '0', '0', '0', '1', '0', '1', '0', '1'],\n",
       " ['1', '1', '0', '0', '0', '0', '1', '2', '1', '0', '1'],\n",
       " ['1', '1', '0', '0', '0', '0', '1', '0', '0', '0', '1'],\n",
       " ['1', '1', '0', '0', '0', '0', '0', '0', '0', '0', '1'],\n",
       " ['1', '1', '1', '1', '1', '1', '1', '1', '1', '1', '1']]"
      ]
     },
     "execution_count": 84,
     "metadata": {},
     "output_type": "execute_result"
    }
   ],
   "source": [
    "import copy\n",
    "t = copy.deepcopy(k)\n",
    "t"
   ]
  },
  {
   "cell_type": "code",
   "execution_count": 86,
   "id": "1c72487a",
   "metadata": {},
   "outputs": [
    {
     "name": "stdout",
     "output_type": "stream",
     "text": [
      "2 3\n",
      "3 3\n",
      "4 7\n",
      "5 7\n",
      "6 7\n",
      "7 7\n"
     ]
    },
    {
     "data": {
      "text/plain": [
       "[['1', '1', '1', '1', '1', '1', '1', '1', '1', '1', '1'],\n",
       " ['1', '1', '1', '1', '1', '1', '1', '1', '1', '1', '1'],\n",
       " ['1', '1', '9', '9', '1', '0', '0', '0', '0', '0', '1'],\n",
       " ['1', '1', '0', '9', '1', '1', '1', '0', '0', '0', '1'],\n",
       " ['1', '1', '0', '9', '9', '9', '9', '9', '1', '0', '1'],\n",
       " ['1', '1', '0', '0', '0', '0', '0', '9', '1', '0', '1'],\n",
       " ['1', '1', '0', '0', '0', '0', '1', '9', '1', '0', '1'],\n",
       " ['1', '1', '0', '0', '0', '0', '1', '9', '1', '0', '1'],\n",
       " ['1', '1', '0', '0', '0', '0', '1', '0', '0', '0', '1'],\n",
       " ['1', '1', '0', '0', '0', '0', '0', '0', '0', '0', '1'],\n",
       " ['1', '1', '1', '1', '1', '1', '1', '1', '1', '1', '1']]"
      ]
     },
     "execution_count": 86,
     "metadata": {},
     "output_type": "execute_result"
    }
   ],
   "source": [
    "d = 2\n",
    "\n",
    "for i in range(2,11):\n",
    "    \n",
    "    for j in range(11):\n",
    "        if t[i][j+d] == '1':\n",
    "            d = j+d-1\n",
    "            break\n",
    "            \n",
    "        elif t[i][j+d] == '0':\n",
    "            t[i][j+d] = '9'\n",
    "\n",
    "    print(i,d)\n",
    "    if t[i][d] == '2':\n",
    "        t[i][d] = '9'\n",
    "        break\n",
    "    \n",
    "            \n",
    "             \n",
    "                \n",
    "\n",
    "#for i in range(1,11):\n",
    "#    for j in range(1,11):\n",
    "#        print(t[i][j],end = ' ')\n",
    "#    print()\n",
    "\n",
    "t"
   ]
  }
 ],
 "metadata": {
  "kernelspec": {
   "display_name": "Python 3 (ipykernel)",
   "language": "python",
   "name": "python3"
  },
  "language_info": {
   "codemirror_mode": {
    "name": "ipython",
    "version": 3
   },
   "file_extension": ".py",
   "mimetype": "text/x-python",
   "name": "python",
   "nbconvert_exporter": "python",
   "pygments_lexer": "ipython3",
   "version": "3.9.12"
  }
 },
 "nbformat": 4,
 "nbformat_minor": 5
}
